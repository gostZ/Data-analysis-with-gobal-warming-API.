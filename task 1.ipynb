{
 "cells": [
  {
   "cell_type": "markdown",
   "metadata": {},
   "source": [
    "# Task 1\n",
    "Assignment 1: In this assignment, I chose global-warming API (https://global-warming.org)"
   ]
  },
  {
   "cell_type": "code",
   "execution_count": null,
   "metadata": {},
   "outputs": [],
   "source": [
    "import json, requests, urllib\n",
    "from pathlib import Path\n",
    "from datetime import datetime\n",
    "import pandas as pd\n",
    "import matplotlib\n",
    "import matplotlib.pyplot as plt\n",
    "%matplotlib inline"
   ]
  },
  {
   "cell_type": "markdown",
   "metadata": {},
   "source": [
    "Settings for the API and data collection."
   ]
  },
  {
   "cell_type": "code",
   "execution_count": 2,
   "metadata": {},
   "outputs": [],
   "source": [
    "api_prefix = \"https://global-warming.org\"\n",
    "# there are 5 main group of data in global-warming API# there are 5 main group of data in global-warming API\n",
    "data_name=[\"temperature\",\"co2\",\"methane\",\"nitrous-oxide\",\"arctic\"]"
   ]
  },
  {
   "cell_type": "markdown",
   "metadata": {},
   "source": [
    "Create directory for raw data storage, if it does not already exist:"
   ]
  },
  {
   "cell_type": "code",
   "execution_count": 3,
   "metadata": {},
   "outputs": [],
   "source": [
    "dir_raw = Path(\"raw\")\n",
    "dir_raw.mkdir(parents=True, exist_ok=True)"
   ]
  },
  {
   "cell_type": "markdown",
   "metadata": {},
   "source": [
    "## Data Collection\n",
    "In this section, I prepared a fetch fucntion to get the url and load data\n",
    "Because global-warming API provide us with a complete url, I do not need to make it by myself"
   ]
  },
  {
   "cell_type": "code",
   "execution_count": 4,
   "metadata": {},
   "outputs": [],
   "source": [
    "def fetch(url):\n",
    "    # construct the url\n",
    "    url = api_prefix + url\n",
    "    print(\"Fetching %s\" % url)\n",
    "    # fetch the page\n",
    "    response = requests.get(url)\n",
    "    jdata = response.text\n",
    "    return json.loads(jdata)"
   ]
  },
  {
   "cell_type": "markdown",
   "metadata": {},
   "source": [
    "Define a \"fetch_current_conditions\" function to write the file, get the current data name by the \"name\" factor and name the file to be written with the name"
   ]
  },
  {
   "cell_type": "code",
   "execution_count": 5,
   "metadata": {},
   "outputs": [],
   "source": [
    "def fetch_current_conditions(name):\n",
    "    # create the endpoint URL\n",
    "    url = \"/api/\"+ name +\"-api\"\n",
    "    # fetch the current data\n",
    "    params = {\"details\": True}\n",
    "    conditions_data = fetch(url)\n",
    "    # write it out to our raw dataset directory\n",
    "    fname = \"%s.json\" % (name)\n",
    "    out_path = dir_raw / fname\n",
    "    print(\"Writing data to %s\" % out_path)\n",
    "    #write file in dict \"raw\"\n",
    "    fout = open(out_path, \"w\")\n",
    "    json.dump(conditions_data, fout, indent=4, sort_keys=True)\n",
    "    fout.close()"
   ]
  },
  {
   "cell_type": "code",
   "execution_count": 6,
   "metadata": {},
   "outputs": [
    {
     "name": "stdout",
     "output_type": "stream",
     "text": [
      "Fetching https://global-warming.org/api/temperature-api\n",
      "Writing data to raw/temperature.json\n",
      "Fetching https://global-warming.org/api/co2-api\n",
      "Writing data to raw/co2.json\n",
      "Fetching https://global-warming.org/api/methane-api\n",
      "Writing data to raw/methane.json\n",
      "Fetching https://global-warming.org/api/nitrous-oxide-api\n",
      "Writing data to raw/nitrous-oxide.json\n",
      "Fetching https://global-warming.org/api/arctic-api\n",
      "Writing data to raw/arctic.json\n"
     ]
    }
   ],
   "source": [
    "for name in data_name:\n",
    "    fetch_current_conditions(name)"
   ]
  }
 ],
 "metadata": {
  "kernelspec": {
   "display_name": "Python 3",
   "language": "python",
   "name": "python3"
  },
  "language_info": {
   "codemirror_mode": {
    "name": "ipython",
    "version": 3
   },
   "file_extension": ".py",
   "mimetype": "text/x-python",
   "name": "python",
   "nbconvert_exporter": "python",
   "pygments_lexer": "ipython3",
   "version": "3.8.5"
  }
 },
 "nbformat": 4,
 "nbformat_minor": 4
}
